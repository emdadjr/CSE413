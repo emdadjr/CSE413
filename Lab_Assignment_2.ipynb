{
  "nbformat": 4,
  "nbformat_minor": 0,
  "metadata": {
    "colab": {
      "provenance": [],
      "authorship_tag": "ABX9TyPWpWPPwpekGcGDfowCzHfR",
      "include_colab_link": true
    },
    "kernelspec": {
      "name": "python3",
      "display_name": "Python 3"
    },
    "language_info": {
      "name": "python"
    }
  },
  "cells": [
    {
      "cell_type": "markdown",
      "metadata": {
        "id": "view-in-github",
        "colab_type": "text"
      },
      "source": [
        "<a href=\"https://colab.research.google.com/github/emdadjr/CSE413/blob/main/Lab_Assignment_2.ipynb\" target=\"_parent\"><img src=\"https://colab.research.google.com/assets/colab-badge.svg\" alt=\"Open In Colab\"/></a>"
      ]
    },
    {
      "cell_type": "code",
      "execution_count": 9,
      "metadata": {
        "colab": {
          "base_uri": "https://localhost:8080/"
        },
        "id": "gW9H2TiTtMAh",
        "outputId": "a59f1a8f-a031-495e-9f88-d30682c4db7c"
      },
      "outputs": [
        {
          "output_type": "stream",
          "name": "stdout",
          "text": [
            "Matrix with seed:\n",
            " [[10 37 16]\n",
            " [ 1 29 26]\n",
            " [30 49 30]]\n"
          ]
        }
      ],
      "source": [
        "import numpy as np\n",
        "\n",
        "np.random.seed(10)\n",
        "mat1 = np.random.randint(1,50,size=(3,3))\n",
        "print(\"Matrix with seed:\\n\",mat1)"
      ]
    },
    {
      "cell_type": "code",
      "source": [
        "mat2 =np.random.randint(1,50,size=(3,3))\n",
        "print(\"Matrix without seed:\\n\", mat2)"
      ],
      "metadata": {
        "colab": {
          "base_uri": "https://localhost:8080/"
        },
        "id": "QMx-K6uoufcL",
        "outputId": "a28dfe13-df52-4dce-9d66-bff83a87cc96"
      },
      "execution_count": 11,
      "outputs": [
        {
          "output_type": "stream",
          "name": "stdout",
          "text": [
            "Matrix without seed:\n",
            " [[12 25 44]\n",
            " [34  9 37]\n",
            " [15 14  6]]\n"
          ]
        }
      ]
    },
    {
      "cell_type": "markdown",
      "source": [
        "**With fixed seed:**\n",
        "  It generated a matrix that remains the same in each runs because of its function. It ensures the same same sequence of random numbers.\n",
        "\n",
        "**Without fixed seed:**\n",
        "  It ensures to generate random number or sequence each time of run."
      ],
      "metadata": {
        "id": "6AZXoy0OvSUQ"
      }
    }
  ]
}