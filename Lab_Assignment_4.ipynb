{
  "nbformat": 4,
  "nbformat_minor": 0,
  "metadata": {
    "colab": {
      "provenance": [],
      "authorship_tag": "ABX9TyP4Vuj8LTqabvrZl1v3OlIE"
    },
    "kernelspec": {
      "name": "python3",
      "display_name": "Python 3"
    },
    "language_info": {
      "name": "python"
    }
  },
  "cells": [
    {
      "cell_type": "code",
      "execution_count": 1,
      "metadata": {
        "colab": {
          "base_uri": "https://localhost:8080/"
        },
        "id": "ddX8jMVqgiFH",
        "outputId": "71ba8181-0eb0-45e8-a78d-5f1e1fda0f91"
      },
      "outputs": [
        {
          "output_type": "stream",
          "name": "stdout",
          "text": [
            "T-statistic: -9.50553227937696\n",
            "P-value: 1.4332460253718528e-15\n",
            "The means of the two groups are statistically significantly different.\n"
          ]
        }
      ],
      "source": [
        "import numpy as np\n",
        "from scipy.stats import ttest_ind\n",
        "\n",
        "mu1 = 0\n",
        "sigma1 = 1\n",
        "mu2 = 2\n",
        "sigma2 = 1\n",
        "n = 50\n",
        "\n",
        "sample1 = np.random.normal(mu1, sigma1, n)\n",
        "sample2 = np.random.normal(mu2, sigma2, n)\n",
        "\n",
        "t_statistic, p_value = ttest_ind(sample1, sample2)\n",
        "\n",
        "print(f\"T-statistic: {t_statistic}\")\n",
        "print(f\"P-value: {p_value}\")\n",
        "\n",
        "\n",
        "\n",
        "alpha = 0.05\n",
        "\n",
        "if p_value < alpha:\n",
        "  print(\"The means of the two groups are statistically significantly different.\")\n",
        "else:\n",
        "  print(\"There is no statistically significant difference between the means of the two groups.\")\n"
      ]
    }
  ]
}